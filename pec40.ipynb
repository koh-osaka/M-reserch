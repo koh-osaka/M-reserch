{
 "cells": [
  {
   "cell_type": "code",
   "execution_count": 40,
   "metadata": {},
   "outputs": [],
   "source": [
    "import pandas as pd\n",
    "import numpy as np\n",
    "import matplotlib.pyplot as plt\n",
    "import linecache"
   ]
  },
  {
   "cell_type": "code",
   "execution_count": 49,
   "metadata": {},
   "outputs": [],
   "source": [
    "file_lis=[]\n",
    "for i in range(74):\n",
    "    file=('pec40#w/pec40_w_ca_w%s_mod.dat' %i)\n",
    "    file_lis.append(file)\n",
    "for i in range(74):\n",
    "    file=('pec40#w/pec40_w_cl_w%s_mod.dat' %i)\n",
    "    file_lis.append(file)\n",
    "for i in range(74):\n",
    "    file=('pec40#w/pec40_w_ic_w%s_mod.dat' %i)\n",
    "    file_lis.append(file)\n",
    "for i in range(74):\n",
    "    file=('pec40#w/pec40_w_ls_w%s_mod.dat' %i)\n",
    "    file_lis.append(file)\n",
    "file_lis.remove('pec40#w/pec40_w_ic_w20_mod.dat')\n",
    "file_lis.remove('pec40#w/pec40_w_ic_w21_mod.dat')\n",
    "file_lis.remove('pec40#w/pec40_w_ic_w22_mod.dat')"
   ]
  },
  {
   "cell_type": "code",
   "execution_count": null,
   "metadata": {},
   "outputs": [],
   "source": [
    "adf=pd.DataFrame()\n",
    "df_dic={}\n",
    "for file in file_lis:\n",
    "    f=open(file)\n",
    "    lines=f.readlines()\n",
    "    n,dens,temp=lines[0].split() \n",
    "    n=int(n)\n",
    "    dens=int(dens)\n",
    "    temp=int(temp)\n",
    "    \n",
    "    df=pd.DataFrame()\n",
    "    ndf_lis=[]\n",
    "    ndf=pd.DataFrame()\n",
    "\n",
    "    h=1   #読みたい塊の先頭行\n",
    "    for i in range(n):\n",
    "        leng=lines[h+1].replace('\\n','')\n",
    "        temp_lis=lines[h+4].split()\n",
    "        for j in range(dens):\n",
    "            line=lines[h+5 +j].split()\n",
    "            df1=pd.DataFrame({'density':line[0],\n",
    "                    'tempureture':temp_lis,\n",
    "                    'pec':line[1:],\n",
    "                    'w_leng':leng,\n",
    "                    'file':file})\n",
    "            ndf=pd.concat([ndf,df1])\n",
    "        ndf_lis.append(ndf)\n",
    "        df=pd.concat([df,ndf])\n",
    "        h=h+4 +dens +1\n",
    "    adf=pd.concat([adf,df])\n",
    "    df_dic['file']=df"
   ]
  },
  {
   "cell_type": "code",
   "execution_count": null,
   "metadata": {},
   "outputs": [],
   "source": [
    "print(adf)"
   ]
  },
  {
   "cell_type": "code",
   "execution_count": 41,
   "metadata": {},
   "outputs": [
    {
     "name": "stdout",
     "output_type": "stream",
     "text": [
      " 13  7 14\n",
      "\n"
     ]
    }
   ],
   "source": [
    "file=\"pec40#w/pec40_w_ca_w1_mod.dat\"\n",
    "f=open(file)\n",
    "lines=f.readlines()\n",
    "#line=line[1:]\n",
    "print(lines[0])\n",
    "#df=pd.read_csv(file,header=1,delim_whitespace=True)"
   ]
  },
  {
   "cell_type": "code",
   "execution_count": 42,
   "metadata": {},
   "outputs": [],
   "source": [
    "n,dens,temp=lines[0].split() \n",
    "n=int(n)\n",
    "dens=int(dens)\n",
    "temp=int(temp)"
   ]
  },
  {
   "cell_type": "code",
   "execution_count": 43,
   "metadata": {},
   "outputs": [],
   "source": [
    "adf=pd.DataFrame()\n",
    "ndf_lis=[]\n",
    "ndf=pd.DataFrame()\n",
    "\n",
    "h=1   #読みたい塊の先頭行\n",
    "for i in range(n):\n",
    "    leng=lines[h+1].replace('\\n','')\n",
    "    temp_lis=lines[h+4].split()\n",
    "    for j in range(dens):\n",
    "        line=lines[h+5 +j].split()\n",
    "        df1=pd.DataFrame({'density':line[0],\n",
    "                    'tempureture':temp_lis,\n",
    "                    'pec':line[1:],\n",
    "                    'w_leng':leng})\n",
    "        ndf=pd.concat([ndf,df1])\n",
    "    ndf_lis.append(ndf)\n",
    "    adf=pd.concat([adf,ndf])\n",
    "    h=h+4 +dens +1"
   ]
  },
  {
   "cell_type": "code",
   "execution_count": 44,
   "metadata": {},
   "outputs": [
    {
     "name": "stdout",
     "output_type": "stream",
     "text": [
      "       density tempureture         pec      w_leng\n",
      "0   0.1000E+11       0.069  0.1000E-73    1047.800\n",
      "1   0.1000E+11       0.103  0.1000E-73    1047.800\n",
      "2   0.1000E+11       0.172  0.9940E-42    1047.800\n",
      "3   0.1000E+11       0.345  0.5710E-27    1047.800\n",
      "4   0.1000E+11       0.689  0.1150E-19    1047.800\n",
      "..         ...         ...         ...         ...\n",
      "9   0.1000E+17      10.300  0.6310E-09    8645.810\n",
      "10  0.1000E+17      17.200  0.6920E-09    8645.810\n",
      "11  0.1000E+17      34.500  0.7280E-09    8645.810\n",
      "12  0.1000E+17      68.900  0.7390E-09    8645.810\n",
      "13  0.1000E+17     103.000  0.7390E-09    8645.810\n",
      "\n",
      "[1274 rows x 4 columns]\n"
     ]
    }
   ],
   "source": [
    "print(ndf)"
   ]
  },
  {
   "cell_type": "code",
   "execution_count": null,
   "metadata": {},
   "outputs": [],
   "source": []
  }
 ],
 "metadata": {
  "kernelspec": {
   "display_name": "Python 3",
   "language": "python",
   "name": "python3"
  },
  "language_info": {
   "codemirror_mode": {
    "name": "ipython",
    "version": 3
   },
   "file_extension": ".py",
   "mimetype": "text/x-python",
   "name": "python",
   "nbconvert_exporter": "python",
   "pygments_lexer": "ipython3",
   "version": "3.7.3"
  }
 },
 "nbformat": 4,
 "nbformat_minor": 2
}
